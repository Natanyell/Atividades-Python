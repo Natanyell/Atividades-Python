{
  "cells": [
    {
      "cell_type": "code",
      "execution_count": null,
      "metadata": {
        "colab": {
          "base_uri": "https://localhost:8080/"
        },
        "id": "Q7EkhnTbITit",
        "outputId": "bcb6edfa-fcb8-4536-c1eb-624026136d42"
      },
      "outputs": [
        {
          "name": "stdout",
          "output_type": "stream",
          "text": [
            "\n",
            "Informe o valor do imovel: 4500\n",
            "Informe o salário: 1250\n",
            "Informe em quantos anos será pago: 2\n",
            "\n",
            "\n",
            "Seu empréstimo bancário foi aprovado!!\n",
            "Você pagará 24 prestações de R$187.50 por 2 anos\n"
          ]
        }
      ],
      "source": [
        "valor_casa = float(input('\\nInforme o valor do imovel: '))\n",
        "salario = float(input('Informe o salário: '))\n",
        "anos = int(input('Informe em quantos anos será pago: '))\n",
        "\n",
        "quant_prest = anos * 12\n",
        "prest_mensal = valor_casa/quant_prest\n",
        "\n",
        "if salario * 0.3 > prest_mensal:\n",
        "    print('\\n\\nSeu empréstimo bancário foi aprovado!!')\n",
        "    print('Você pagará {} prestações de R${:.2f} por {} anos'.format(quant_prest, prest_mensal, anos))\n",
        "\n",
        "else:\n",
        "    print('Infelizmente você não foi aprovado para o empréstimo, sentimos muito.')"
      ]
    },
    {
      "cell_type": "code",
      "execution_count": 15,
      "metadata": {
        "colab": {
          "base_uri": "https://localhost:8080/"
        },
        "id": "TvUQ2iu8LMjS",
        "outputId": "77d2c158-c6e3-4373-c8b6-a33065ffe5f9"
      },
      "outputs": [
        {
          "output_type": "stream",
          "name": "stdout",
          "text": [
            "\n",
            "A confederação nacional de natação precisa de um programa que leia o ano de nascimento de um atleta e mostre sua\n",
            "categoria, de acordo com a sua idade:\n",
            "-Até 9 anos: MIRIM\n",
            "-Até 14 anos: INFANTIL\n",
            "-Até 19 anos: JUNIOR\n",
            "-Até 20 anos: SÊNIOR\n",
            "-Acima: MASTER\n",
            "\n",
            "Informe sua idade: 17\n",
            "Sua Liga é MIRIM\n"
          ]
        }
      ],
      "source": [
        "print('\\nA confederação nacional de natação precisa de um programa que leia o ano de nascimento de um atleta e mostre sua\\ncategoria, de acordo com a sua idade:'\n",
        "      '\\n-Até 9 anos: MIRIM'\n",
        "      '\\n-Até 14 anos: INFANTIL'\n",
        "      '\\n-Até 19 anos: JUNIOR'\n",
        "      '\\n-Até 20 anos: SÊNIOR'\n",
        "      '\\n-Acima: MASTER\\n')\n",
        "\n",
        "idade = int(input('Informe sua idade: '))\n",
        "\n",
        "if idade >= 9:\n",
        "    print(\"Sua Liga é MIRIM\")\n",
        "elif idade > 9 and idade <= 14:\n",
        "    print(\"Sua Liga é INFANTIL\")\n",
        "elif idade > 14 and idade <= 19:\n",
        "    print(\"Sua liga é JUNIOR\")\n",
        "elif idade > 19:\n",
        "    print(\"Sua liga é SÊNIOR\")\n",
        "elif idade <= 0 or idade >= 120:\n",
        "    print('Não é possível competir com essa idade.')"
      ]
    },
    {
      "cell_type": "code",
      "source": [
        "# - Analisador de Textos\n",
        "\n",
        "from time import sleep\n",
        "\n",
        "nome = str(input(\"Digite seu nome completo: \")).strip()\n",
        "print(\"-\" * 25)\n",
        "print(\"Analisando seu nome...\")\n",
        "print(\"-\" * 25)\n",
        "sleep(5)\n",
        "print()\n",
        "print(\"Seu nome é {}\" .format(nome))\n",
        "print(\"Seu nome em maiúsculo é {}\" .format(nome.upper()))\n",
        "print(\"Seu nome em minúsculo é {}\" .format(nome.lower()))\n",
        "print(\"Seu nome tem {} letras\".format(len(nome)- nome.count(\" \")))\n",
        "#print(\"Seu primeiro nome tem {} letras\".format(nome.find(\" \")))\n",
        "separa = nome.split()\n",
        "print(\"Seu primeiro nome é {} e ele tem {} letras\" .format(separa[0], len(separa[0])))\n",
        ""
      ],
      "metadata": {
        "colab": {
          "base_uri": "https://localhost:8080/"
        },
        "id": "TgyzN2UgjIab",
        "outputId": "b0f95877-9aed-4284-917f-bc423eade709"
      },
      "execution_count": 13,
      "outputs": [
        {
          "output_type": "stream",
          "name": "stdout",
          "text": [
            "Digite seu nome completo: Natanyell Romão Rodrigues\n",
            "-------------------------\n",
            "Analisando seu nome...\n",
            "-------------------------\n",
            "\n",
            "Seu nome é Natanyell Romão Rodrigues\n",
            "Seu nome em maiúsculo é NATANYELL ROMÃO RODRIGUES\n",
            "Seu nome em minúsculo é natanyell romão rodrigues\n",
            "Seu nome tem 23 letras\n",
            "Seu primeiro nome é Natanyell e ele tem 9 letras\n"
          ]
        }
      ]
    },
    {
      "cell_type": "code",
      "source": [
        "# Escreva uma função chamada fatorial que receba um número inteiro como parâmetro e retorne o fatorial desse número.\n",
        "\n",
        "def fatorial(n):\n",
        "  if n==0 or n==1:\n",
        "    return 1\n",
        "  else:\n",
        "    return n * fatorial(n-1)\n",
        "\n",
        "numero = int(input(\"Escreva o número que queira descubrir o fatorial: \"))\n",
        "\n",
        "print(f\"O Fatorial de {numero} é igual á {fatorial(numero)}\")"
      ],
      "metadata": {
        "colab": {
          "base_uri": "https://localhost:8080/"
        },
        "id": "3vYwT5-3To31",
        "outputId": "52692d71-e189-48e6-fae1-d6960362a4d3"
      },
      "execution_count": 22,
      "outputs": [
        {
          "output_type": "stream",
          "name": "stdout",
          "text": [
            "Escreva o número que queira descubrir o fatorial: 34\n",
            "O Fatorial de 34 é igual á 295232799039604140847618609643520000000\n"
          ]
        }
      ]
    },
    {
      "cell_type": "code",
      "source": [
        "#Escreva um programa que verifique se uma palavra digitada pelo usuário é um palíndromo (uma palavra que é igual de trás para frente).\n",
        "\n",
        "palavra = input(\"Digite uma palavra: \").lower()\n",
        "if palavra == palavra[::-1]:\n",
        "  print(f\"A palavra {palavra} é um palindromo\")\n",
        "else:\n",
        "  print(f\"A palavra {palavra} não é um palindromo\")"
      ],
      "metadata": {
        "id": "puoQ8AQnVGva"
      },
      "execution_count": null,
      "outputs": []
    }
  ],
  "metadata": {
    "colab": {
      "provenance": []
    },
    "kernelspec": {
      "display_name": "Python 3",
      "name": "python3"
    },
    "language_info": {
      "name": "python"
    }
  },
  "nbformat": 4,
  "nbformat_minor": 0
}